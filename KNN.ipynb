{
 "cells": [
  {
   "cell_type": "code",
   "execution_count": 3,
   "metadata": {},
   "outputs": [
    {
     "name": "stdout",
     "output_type": "stream",
     "text": [
      "0.8.0\n",
      "3.0.2\n",
      "0.18.1\n"
     ]
    }
   ],
   "source": [
    "import pandas as pd\n",
    "import numpy as np\n",
    "import scipy\n",
    "import matplotlib.pyplot as plt\n",
    "import matplotlib as mpl\n",
    "import seaborn as sns\n",
    "import sklearn as skl\n",
    "\n",
    "from sklearn import neighbors, linear_model\n",
    "from sklearn.model_selection import cross_val_score, train_test_split\n",
    "from IPython.display import display as dsp\n",
    "\n",
    "print(sns.__version__)\n",
    "print(mpl.__version__)\n",
    "print(skl.__version__)"
   ]
  },
  {
   "cell_type": "markdown",
   "metadata": {},
   "source": [
    "__Attribute Information:__\n",
    "\n",
    "1. Sample code number: id number (ID)\n",
    "2. Clump Thickness: 1 - 10 (ct)\n",
    "3. Uniformity of Cell Size: 1 - 10 (csu)\n",
    "4. Uniformity of Cell Shape: 1 - 10 (cshu)\n",
    "5. Marginal Adhesion: 1 - 10 (ma)\n",
    "6. Single Epithelial Cell Size: 1 - 10 (secs)\n",
    "7. Bare Nuclei: 1 - 10 (bn)\n",
    "8. Bland Chromatin: 1 - 10 (bc)\n",
    "9. Normal Nucleoli: 1 - 10 (nn)\n",
    "10. Mitoses: 1 - 10 (mito)\n",
    "11. Class: (2 for benign, 4 for malignant) (class)"
   ]
  },
  {
   "cell_type": "code",
   "execution_count": 11,
   "metadata": {},
   "outputs": [
    {
     "data": {
      "text/plain": [
       "KNeighborsRegressor(algorithm='auto', leaf_size=30, metric='minkowski',\n",
       "          metric_params=None, n_jobs=1, n_neighbors=1, p=2,\n",
       "          weights='uniform')"
      ]
     },
     "execution_count": 11,
     "metadata": {},
     "output_type": "execute_result"
    }
   ],
   "source": [
    "breast = pd.read_csv('data/breast-cancer-wisconsin.data.txt')\n",
    "\n",
    "breast.columns = range(len(breast.columns))\n",
    "breast.rename(columns = {0 : 'ID', 1 : 'ct', 2 : 'csu', 3 : 'cshu', \n",
    "                        4 : 'ma', 5 : 'secs', 6 : 'bn', 7 : 'bc',\n",
    "                        8 : 'nn', 9 : 'mito', 10 : 'class'}, inplace = True)\n",
    "\n",
    "breast.replace('?', np.nan, inplace = True)\n",
    "breast.dropna(inplace = True)\n",
    "\n",
    "breast.drop(['ID'], axis = 1, inplace = True)\n",
    "\n",
    "#reset index\n",
    "breast.index = range(len(breast))\n",
    "\n",
    "breast = breast.apply(pd.to_numeric)"
   ]
  },
  {
   "cell_type": "code",
   "execution_count": 5,
   "metadata": {},
   "outputs": [],
   "source": [
    "def jitter_matrix(df, column_array):\n",
    "    jit = pd.DataFrame(\n",
    "        np.random.uniform(-.3, .3, size=(df.shape)),\n",
    "        columns=column_array)\n",
    "    return jit\n",
    "    \n",
    "def model_validation(mod, X, Y, holdout, folds):\n",
    "    print('R-Square: ', mod.score(X,Y))\n",
    "    \n",
    "    X_train, X_test, Y_train, Y_test = train_test_split(X, Y, test_size = holdout, random_state = 101)\n",
    "    print('\\n{}% holdout:\\n {}'.format(100 * holdout, mod.fit(X_train, Y_train).score(X_test, Y_test)))\n",
    "    \n",
    "    print('\\n{} folds:\\n {}'.format(folds, cross_val_score(mod, X, Y, cv = folds)))"
   ]
  },
  {
   "cell_type": "code",
   "execution_count": 6,
   "metadata": {},
   "outputs": [
    {
     "name": "stdout",
     "output_type": "stream",
     "text": [
      "Total benign: 457\n",
      "Total malignent: 241\n"
     ]
    }
   ],
   "source": [
    "print('Total benign: {}'.format(breast.loc[breast['class'] == 2].ct.count()))\n",
    "print('Total malignent: {}'.format(breast.loc[breast['class'] == 4].ct.count()))\n",
    "\n",
    "#breast.add(jitter_matrix(breast, breast.columns))"
   ]
  },
  {
   "cell_type": "code",
   "execution_count": 7,
   "metadata": {},
   "outputs": [],
   "source": [
    "#knn = neighbors.KNeighborsRegressor(n_neighbors = 10)\n",
    "#brplot = breast[['ct','csu','cshu','ma', 'class']]\n",
    "\n",
    "#g = sns.PairGrid(brplot, diag_sharey = False)\n",
    "#g.map_upper(plt.scatter, alpha = 5)\n",
    "#g.map_lower(sns.regplot, scatter_kws=dict(alpha = 0))\n",
    "#g.map_diag(sns.kdeplot, lw = 3)\n",
    "\n",
    "#plt.show()"
   ]
  },
  {
   "cell_type": "code",
   "execution_count": 8,
   "metadata": {},
   "outputs": [
    {
     "data": {
      "image/png": "[encoded data removed]",
      "text/plain": [
       "<Figure size 432x288 with 2 Axes>"
      ]
     },
     "metadata": {
      "needs_background": "light"
     },
     "output_type": "display_data"
    },
    {
     "data": {
      "text/html": [
       "<div>\n",
       "<style scoped>\n",
       "    .dataframe tbody tr th:only-of-type {\n",
       "        vertical-align: middle;\n",
       "    }\n",
       "\n",
       "    .dataframe tbody tr th {\n",
       "        vertical-align: top;\n",
       "    }\n",
       "\n",
       "    .dataframe thead th {\n",
       "        text-align: right;\n",
       "    }\n",
       "</style>\n",
       "<table border=\"1\" class=\"dataframe\">\n",
       "  <thead>\n",
       "    <tr style=\"text-align: right;\">\n",
       "      <th></th>\n",
       "      <th>ct</th>\n",
       "      <th>csu</th>\n",
       "      <th>cshu</th>\n",
       "      <th>ma</th>\n",
       "      <th>secs</th>\n",
       "      <th>bn</th>\n",
       "      <th>bc</th>\n",
       "      <th>nn</th>\n",
       "      <th>mito</th>\n",
       "    </tr>\n",
       "  </thead>\n",
       "  <tbody>\n",
       "    <tr>\n",
       "      <th>0</th>\n",
       "      <td>5</td>\n",
       "      <td>4</td>\n",
       "      <td>4</td>\n",
       "      <td>5</td>\n",
       "      <td>7</td>\n",
       "      <td>10.0</td>\n",
       "      <td>3</td>\n",
       "      <td>2</td>\n",
       "      <td>1</td>\n",
       "    </tr>\n",
       "    <tr>\n",
       "      <th>1</th>\n",
       "      <td>3</td>\n",
       "      <td>1</td>\n",
       "      <td>1</td>\n",
       "      <td>1</td>\n",
       "      <td>2</td>\n",
       "      <td>2.0</td>\n",
       "      <td>3</td>\n",
       "      <td>1</td>\n",
       "      <td>1</td>\n",
       "    </tr>\n",
       "    <tr>\n",
       "      <th>2</th>\n",
       "      <td>6</td>\n",
       "      <td>8</td>\n",
       "      <td>8</td>\n",
       "      <td>1</td>\n",
       "      <td>3</td>\n",
       "      <td>4.0</td>\n",
       "      <td>3</td>\n",
       "      <td>7</td>\n",
       "      <td>1</td>\n",
       "    </tr>\n",
       "    <tr>\n",
       "      <th>3</th>\n",
       "      <td>4</td>\n",
       "      <td>1</td>\n",
       "      <td>1</td>\n",
       "      <td>3</td>\n",
       "      <td>2</td>\n",
       "      <td>1.0</td>\n",
       "      <td>3</td>\n",
       "      <td>1</td>\n",
       "      <td>1</td>\n",
       "    </tr>\n",
       "    <tr>\n",
       "      <th>4</th>\n",
       "      <td>8</td>\n",
       "      <td>10</td>\n",
       "      <td>10</td>\n",
       "      <td>8</td>\n",
       "      <td>7</td>\n",
       "      <td>10.0</td>\n",
       "      <td>9</td>\n",
       "      <td>7</td>\n",
       "      <td>1</td>\n",
       "    </tr>\n",
       "  </tbody>\n",
       "</table>\n",
       "</div>"
      ],
      "text/plain": [
       "   ct  csu  cshu  ma  secs    bn  bc  nn  mito\n",
       "0   5    4     4   5     7  10.0   3   2     1\n",
       "1   3    1     1   1     2   2.0   3   1     1\n",
       "2   6    8     8   1     3   4.0   3   7     1\n",
       "3   4    1     1   3     2   1.0   3   1     1\n",
       "4   8   10    10   8     7  10.0   9   7     1"
      ]
     },
     "metadata": {},
     "output_type": "display_data"
    },
    {
     "data": {
      "text/plain": [
       "0    2\n",
       "1    2\n",
       "2    2\n",
       "3    2\n",
       "4    4\n",
       "Name: class, dtype: int64"
      ]
     },
     "metadata": {},
     "output_type": "display_data"
    }
   ],
   "source": [
    "y_ben = breast.loc[breast['class'] == 2]\n",
    "y_mal = breast.loc[breast['class'] == 4]\n",
    "\n",
    "sns.heatmap(breast.corr())\n",
    "plt.show()"
   ]
  },
  {
   "cell_type": "code",
   "execution_count": 20,
   "metadata": {},
   "outputs": [
    {
     "name": "stdout",
     "output_type": "stream",
     "text": [
      "KNN R^2: 0.83 (+/- 0.18)\n",
      "\n",
      "Multivar Lin Regression: 0.843264055823808\n",
      "\n",
      "Linear Regression Coefficients:\n",
      " [0.06356589 0.04362707 0.03119778 0.01646283 0.02015008 0.09070277\n",
      " 0.0384951  0.03701887 0.00195888]\n"
     ]
    }
   ],
   "source": [
    "X = breast[['ct','csu','cshu','ma','secs', 'bn', 'bc', 'nn', 'mito']]\n",
    "Y = breast['class']\n",
    "\n",
    "knn = neighbors.KNeighborsRegressor(n_neighbors = 1)\n",
    "knn.fit(X,Y)\n",
    "\n",
    "regr = linear_model.LinearRegression()\n",
    "regr.fit(X,Y)\n",
    "\n",
    "score = cross_val_score(knn, X, Y)\n",
    "print(\"KNN R^2: %0.2f (+/- %0.2f)\" % (score.mean(), score.std() * 2))\n",
    "\n",
    "print('\\nMultivar Lin Regression:',regr.score(X,Y))\n",
    "\n",
    "print('\\nLinear Regression Coefficients:\\n', regr.coef_)\n"
   ]
  }
 ],
 "metadata": {
  "kernelspec": {
   "display_name": "Python 3",
   "language": "python",
   "name": "python3"
  },
  "language_info": {
   "codemirror_mode": {
    "name": "ipython",
    "version": 3
   },
   "file_extension": ".py",
   "mimetype": "text/x-python",
   "name": "python",
   "nbconvert_exporter": "python",
   "pygments_lexer": "ipython3",
   "version": "3.6.8"
  }
 },
 "nbformat": 4,
 "nbformat_minor": 2
}
