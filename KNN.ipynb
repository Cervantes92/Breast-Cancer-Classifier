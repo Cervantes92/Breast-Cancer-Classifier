{
 "cells": [
  {
   "cell_type": "code",
   "execution_count": 24,
   "metadata": {},
   "outputs": [
    {
     "name": "stdout",
     "output_type": "stream",
     "text": [
      "0.8.0\n",
      "3.0.2\n",
      "0.18.1\n"
     ]
    }
   ],
   "source": [
    "import pandas as pd\n",
    "import numpy as np\n",
    "import scipy\n",
    "import matplotlib.pyplot as plt\n",
    "import matplotlib as mpl\n",
    "import seaborn as sns\n",
    "import sklearn as skl\n",
    "\n",
    "from sklearn import neighbors, linear_model\n",
    "from sklearn.model_selection import cross_val_score, train_test_split\n",
    "from IPython.display import display as dsp\n",
    "\n",
    "print(sns.__version__)\n",
    "print(mpl.__version__)\n",
    "print(skl.__version__)"
   ]
  },
  {
   "cell_type": "markdown",
   "metadata": {},
   "source": [
    "__Attribute Information:__\n",
    "\n",
    "1. Sample code number: id number (ID)\n",
    "2. Clump Thickness: 1 - 10 (ct)\n",
    "3. Uniformity of Cell Size: 1 - 10 (csu)\n",
    "4. Uniformity of Cell Shape: 1 - 10 (cshu)\n",
    "5. Marginal Adhesion: 1 - 10 (ma)\n",
    "6. Single Epithelial Cell Size: 1 - 10 (secs)\n",
    "7. Bare Nuclei: 1 - 10 (bn)\n",
    "8. Bland Chromatin: 1 - 10 (bc)\n",
    "9. Normal Nucleoli: 1 - 10 (nn)\n",
    "10. Mitoses: 1 - 10 (mito)\n",
    "11. Class: (2 for benign, 4 for malignant) (class)"
   ]
  },
  {
   "cell_type": "code",
   "execution_count": 25,
   "metadata": {},
   "outputs": [],
   "source": [
    "breast = pd.read_csv('data/breast-cancer-wisconsin.data.txt')\n",
    "\n",
    "breast.columns = range(len(breast.columns))\n",
    "breast.rename(columns = {0 : 'ID', 1 : 'ct', 2 : 'csu', 3 : 'cshu', \n",
    "                        4 : 'ma', 5 : 'secs', 6 : 'bn', 7 : 'bc',\n",
    "                        8 : 'nn', 9 : 'mito', 10 : 'class'}, inplace = True)\n",
    "\n",
    "breast.replace('?', np.nan, inplace = True)\n",
    "breast.dropna(inplace = True)\n",
    "\n",
    "breast.drop(['ID'], axis = 1, inplace = True)\n",
    "\n",
    "#reset index\n",
    "breast.index = range(len(breast))\n",
    "\n",
    "breast = breast.apply(pd.to_numeric)"
   ]
  },
  {
   "cell_type": "code",
   "execution_count": 26,
   "metadata": {},
   "outputs": [],
   "source": [
    "def jitter_matrix(df, column_array):\n",
    "    jit = pd.DataFrame(\n",
    "        np.random.uniform(-.3, .3, size=(df.shape)),\n",
    "        columns=column_array)\n",
    "    return jit\n",
    "    \n",
    "def model_validation(mod, X, Y, holdout, folds):\n",
    "    print('R-Square: ', mod.score(X,Y))\n",
    "    \n",
    "    X_train, X_test, Y_train, Y_test = train_test_split(X, Y, test_size = holdout, random_state = 101)\n",
    "    print('\\n{}% holdout:\\n {}'.format(100 * holdout, mod.fit(X_train, Y_train).score(X_test, Y_test)))\n",
    "    \n",
    "    print('\\n{} folds:\\n {}'.format(folds, cross_val_score(mod, X, Y, cv = folds)))"
   ]
  },
  {
   "cell_type": "code",
   "execution_count": 27,
   "metadata": {},
   "outputs": [
    {
     "name": "stdout",
     "output_type": "stream",
     "text": [
      "Total benign: 443\n",
      "Total malignent: 239\n"
     ]
    }
   ],
   "source": [
    "print('Total benign: {}'.format(breast.loc[breast['class'] == 2].ct.count()))\n",
    "print('Total malignent: {}'.format(breast.loc[breast['class'] == 4].ct.count()))\n",
    "\n",
    "#breast.add(jitter_matrix(breast, breast.columns))"
   ]
  },
  {
   "cell_type": "code",
   "execution_count": 28,
   "metadata": {},
   "outputs": [],
   "source": [
    "#knn = neighbors.KNeighborsRegressor(n_neighbors = 10)\n",
    "#brplot = breast[['ct','csu','cshu','ma', 'class']]\n",
    "\n",
    "#g = sns.PairGrid(brplot, diag_sharey = False)\n",
    "#g.map_upper(plt.scatter, alpha = 5)\n",
    "#g.map_lower(sns.regplot, scatter_kws=dict(alpha = 0))\n",
    "#g.map_diag(sns.kdeplot, lw = 3)\n",
    "\n",
    "#plt.show()"
   ]
  },
  {
   "cell_type": "code",
   "execution_count": 29,
   "metadata": {},
   "outputs": [
    {
     "data": {
      "image/png": "[encoded data removed]",
      "text/plain": [
       "<Figure size 432x288 with 2 Axes>"
      ]
     },
     "metadata": {
      "needs_background": "light"
     },
     "output_type": "display_data"
    }
   ],
   "source": [
    "y_ben = breast.loc[breast['class'] == 2]\n",
    "y_mal = breast.loc[breast['class'] == 4]\n",
    "\n",
    "sns.heatmap(breast.corr())\n",
    "plt.show()"
   ]
  },
  {
   "cell_type": "code",
   "execution_count": 34,
   "metadata": {},
   "outputs": [
    {
     "name": "stdout",
     "output_type": "stream",
     "text": [
      "KNN R^2: 0.88 (+/- 0.11)\n",
      "\n",
      "OLS R^2: 0.82 (+/- 0.04)\n",
      "\n",
      "Linear Regression Coefficients:\n",
      " [0.06356589 0.04362707 0.03119778 0.01646283 0.02015008 0.09070277\n",
      " 0.0384951  0.03701887 0.00195888]\n"
     ]
    }
   ],
   "source": [
    "X = breast[['ct','csu','cshu','ma','secs', 'bn', 'bc', 'nn', 'mito']]\n",
    "Y = breast['class']\n",
    "\n",
    "knn = neighbors.KNeighborsRegressor(n_neighbors = 10)\n",
    "knn.fit(X,Y)\n",
    "\n",
    "regr = linear_model.LinearRegression()\n",
    "regr.fit(X,Y)\n",
    "\n",
    "score_knn = cross_val_score(knn, X, Y)\n",
    "score_lin_reg = cross_val_score(regr, X, Y)\n",
    "\n",
    "print('KNN R^2: %0.2f (+/- %0.2f)' % (score_knn.mean(), score_knn.std() * 2))\n",
    "\n",
    "print('\\nOLS R^2: %0.2f (+/- %0.2f)' % (score_lin_reg.mean(), score_lin_reg.std()))\n",
    "\n",
    "print('\\nLinear Regression Coefficients:\\n', regr.coef_)\n"
   ]
  },
  {
   "cell_type": "markdown",
   "metadata": {},
   "source": [
    "__Model Comparison__\n",
    "It is surprising how accurate both the KNN algorithm and the OLS algorithm are even without any substantial feature engineering. The KNN model is slightly more accurate than the OLS algorithm."
   ]
  }
 ],
 "metadata": {
  "kernelspec": {
   "display_name": "Python 3",
   "language": "python",
   "name": "python3"
  },
  "language_info": {
   "codemirror_mode": {
    "name": "ipython",
    "version": 3
   },
   "file_extension": ".py",
   "mimetype": "text/x-python",
   "name": "python",
   "nbconvert_exporter": "python",
   "pygments_lexer": "ipython3",
   "version": "3.6.8"
  }
 },
 "nbformat": 4,
 "nbformat_minor": 2
}
