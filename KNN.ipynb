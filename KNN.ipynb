{
 "cells": [
  {
   "cell_type": "code",
   "execution_count": 70,
   "metadata": {
    "collapsed": true
   },
   "outputs": [],
   "source": [
    "import pandas as pd\n",
    "import numpy as np\n",
    "import scipy as sc\n",
    "import matplotlib.pyplot as plt\n",
    "\n",
    "from sklearn import neighbors\n",
    "from IPython.display import display as dsp"
   ]
  },
  {
   "cell_type": "markdown",
   "metadata": {},
   "source": [
    "__Attribute Information:__\n",
    "\n",
    "1. Sample code number: id number (ID)\n",
    "2. Clump Thickness: 1 - 10 (ct)\n",
    "3. Uniformity of Cell Size: 1 - 10 (csu)\n",
    "4. Uniformity of Cell Shape: 1 - 10 (cshu)\n",
    "5. Marginal Adhesion: 1 - 10 (ma)\n",
    "6. Single Epithelial Cell Size: 1 - 10 (secs)\n",
    "7. Bare Nuclei: 1 - 10 (bn)\n",
    "8. Bland Chromatin: 1 - 10 (bc)\n",
    "9. Normal Nucleoli: 1 - 10 (nn)\n",
    "10. Mitoses: 1 - 10 (mito)\n",
    "11. Class: (2 for benign, 4 for malignant) (class)"
   ]
  },
  {
   "cell_type": "code",
   "execution_count": 71,
   "metadata": {
    "collapsed": false
   },
   "outputs": [
    {
     "data": {
      "text/html": [
       "<div>\n",
       "<style scoped>\n",
       "    .dataframe tbody tr th:only-of-type {\n",
       "        vertical-align: middle;\n",
       "    }\n",
       "\n",
       "    .dataframe tbody tr th {\n",
       "        vertical-align: top;\n",
       "    }\n",
       "\n",
       "    .dataframe thead th {\n",
       "        text-align: right;\n",
       "    }\n",
       "</style>\n",
       "<table border=\"1\" class=\"dataframe\">\n",
       "  <thead>\n",
       "    <tr style=\"text-align: right;\">\n",
       "      <th></th>\n",
       "      <th>ct</th>\n",
       "      <th>csu</th>\n",
       "      <th>cshu</th>\n",
       "      <th>ma</th>\n",
       "      <th>secs</th>\n",
       "      <th>bn</th>\n",
       "      <th>bc</th>\n",
       "      <th>nn</th>\n",
       "      <th>mito</th>\n",
       "      <th>class</th>\n",
       "    </tr>\n",
       "    <tr>\n",
       "      <th>ID</th>\n",
       "      <th></th>\n",
       "      <th></th>\n",
       "      <th></th>\n",
       "      <th></th>\n",
       "      <th></th>\n",
       "      <th></th>\n",
       "      <th></th>\n",
       "      <th></th>\n",
       "      <th></th>\n",
       "      <th></th>\n",
       "    </tr>\n",
       "  </thead>\n",
       "  <tbody>\n",
       "    <tr>\n",
       "      <th>1002945</th>\n",
       "      <td>5</td>\n",
       "      <td>4</td>\n",
       "      <td>4</td>\n",
       "      <td>5</td>\n",
       "      <td>7</td>\n",
       "      <td>10</td>\n",
       "      <td>3</td>\n",
       "      <td>2</td>\n",
       "      <td>1</td>\n",
       "      <td>2</td>\n",
       "    </tr>\n",
       "    <tr>\n",
       "      <th>1015425</th>\n",
       "      <td>3</td>\n",
       "      <td>1</td>\n",
       "      <td>1</td>\n",
       "      <td>1</td>\n",
       "      <td>2</td>\n",
       "      <td>2</td>\n",
       "      <td>3</td>\n",
       "      <td>1</td>\n",
       "      <td>1</td>\n",
       "      <td>2</td>\n",
       "    </tr>\n",
       "    <tr>\n",
       "      <th>1016277</th>\n",
       "      <td>6</td>\n",
       "      <td>8</td>\n",
       "      <td>8</td>\n",
       "      <td>1</td>\n",
       "      <td>3</td>\n",
       "      <td>4</td>\n",
       "      <td>3</td>\n",
       "      <td>7</td>\n",
       "      <td>1</td>\n",
       "      <td>2</td>\n",
       "    </tr>\n",
       "    <tr>\n",
       "      <th>1017023</th>\n",
       "      <td>4</td>\n",
       "      <td>1</td>\n",
       "      <td>1</td>\n",
       "      <td>3</td>\n",
       "      <td>2</td>\n",
       "      <td>1</td>\n",
       "      <td>3</td>\n",
       "      <td>1</td>\n",
       "      <td>1</td>\n",
       "      <td>2</td>\n",
       "    </tr>\n",
       "    <tr>\n",
       "      <th>1017122</th>\n",
       "      <td>8</td>\n",
       "      <td>10</td>\n",
       "      <td>10</td>\n",
       "      <td>8</td>\n",
       "      <td>7</td>\n",
       "      <td>10</td>\n",
       "      <td>9</td>\n",
       "      <td>7</td>\n",
       "      <td>1</td>\n",
       "      <td>4</td>\n",
       "    </tr>\n",
       "  </tbody>\n",
       "</table>\n",
       "</div>"
      ],
      "text/plain": [
       "         ct  csu  cshu  ma  secs  bn  bc  nn  mito  class\n",
       "ID                                                       \n",
       "1002945   5    4     4   5     7  10   3   2     1      2\n",
       "1015425   3    1     1   1     2   2   3   1     1      2\n",
       "1016277   6    8     8   1     3   4   3   7     1      2\n",
       "1017023   4    1     1   3     2   1   3   1     1      2\n",
       "1017122   8   10    10   8     7  10   9   7     1      4"
      ]
     },
     "metadata": {},
     "output_type": "display_data"
    }
   ],
   "source": [
    "breast = pd.read_csv('data/breast-cancer-wisconsin.data.txt')\n",
    "\n",
    "breast.columns = range(len(breast.columns))\n",
    "breast.rename(columns = {0 : 'ID', 1 : 'ct', 2 : 'csu', 3 : 'cshu', \n",
    "                        4 : 'ma', 5 : 'secs', 6 : 'bn', 7 : 'bc',\n",
    "                        8 : 'nn', 9 : 'mito', 10 : 'class'}, inplace = True)\n",
    "\n",
    "breast.replace('?', np.nan, inplace = True)\n",
    "breast.dropna(inplace = True)\n",
    "\n",
    "breast.set_index('ID', inplace = True)\n",
    "\n",
    "dsp(breast.head())"
   ]
  },
  {
   "cell_type": "code",
   "execution_count": 72,
   "metadata": {
    "collapsed": false
   },
   "outputs": [
    {
     "name": "stdout",
     "output_type": "stream",
     "text": [
      "Total benign: 443\n",
      "Total malignent: 239\n"
     ]
    }
   ],
   "source": [
    "print('Total benign: {}'.format(breast.loc[breast['class'] == 2].ct.count()))\n",
    "print('Total malignent: {}'.format(breast.loc[breast['class'] == 4].ct.count()))"
   ]
  },
  {
   "cell_type": "code",
   "execution_count": 76,
   "metadata": {
    "collapsed": false
   },
   "outputs": [
    {
     "data": {
      "image/png": "[encoded data removed]",
      "text/plain": [
       "<Figure size 432x288 with 1 Axes>"
      ]
     },
     "metadata": {},
     "output_type": "display_data"
    }
   ],
   "source": [
    "knn = neighbors.KNeighborsRegressor(n_neighbors = 10)\n",
    "\n",
    "X = breast[['ct','csu','cshu','ma','secs', 'bn', 'bc', 'nn', 'mito']]\n",
    "Y = breast['class']\n",
    "\n",
    "knn.fit(X, Y)\n",
    "\n",
    "y_ben = breast[breast['class'] == 2]\n",
    "y_mal = breast[breast['class'] == 4]\n",
    "\n",
    "plt.scatter(\n",
    "    breast[breast['class'] == 4].ct,\n",
    "    breast[breast['class'] == 4].mito,\n",
    "    color = 'red'\n",
    ")\n",
    "\n",
    "plt.scatter(\n",
    "    breast[breast['class'] == 2].ct,\n",
    "    breast[breast['class'] == 2].mito,\n",
    "    color = 'blue'\n",
    ")\n",
    "\n",
    "plt.title = 'Clump Thickness to Malignancy'\n",
    "\n",
    "plt.show()"
   ]
  },
  {
   "cell_type": "code",
   "execution_count": null,
   "metadata": {
    "collapsed": true
   },
   "outputs": [],
   "source": []
  }
 ],
 "metadata": {
  "kernelspec": {
   "display_name": "Python 3",
   "language": "python",
   "name": "python3"
  },
  "language_info": {
   "codemirror_mode": {
    "name": "ipython",
    "version": 3
   },
   "file_extension": ".py",
   "mimetype": "text/x-python",
   "name": "python",
   "nbconvert_exporter": "python",
   "pygments_lexer": "ipython3",
   "version": "3.6.0"
  }
 },
 "nbformat": 4,
 "nbformat_minor": 2
}
